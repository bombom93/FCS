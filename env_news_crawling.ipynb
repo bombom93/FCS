{
 "cells": [
  {
   "cell_type": "markdown",
   "metadata": {},
   "source": [
    "# 환경부 보도자료 크롤링 및 전처리"
   ]
  },
  {
   "cell_type": "markdown",
   "metadata": {},
   "source": [
    "## 필요한 라이브러리 로드"
   ]
  },
  {
   "cell_type": "code",
   "execution_count": 115,
   "metadata": {},
   "outputs": [],
   "source": [
    "import requests\n",
    "import pandas as pd\n",
    "from bs4 import BeautifulSoup as bs\n",
    "from tqdm import tqdm\n",
    "import re\n"
   ]
  },
  {
   "cell_type": "markdown",
   "metadata": {},
   "source": [
    "## 크롤링"
   ]
  },
  {
   "cell_type": "code",
   "execution_count": 294,
   "metadata": {},
   "outputs": [
    {
     "name": "stderr",
     "output_type": "stream",
     "text": [
      "100%|██████████| 100/100 [01:59<00:00,  1.19s/it]\n"
     ]
    }
   ],
   "source": [
    "url_list=[]\n",
    "for page_num in tqdm(range(0,1000,10)):\n",
    "    base_url='http://me.go.kr'\n",
    "    url='http://me.go.kr/home/web/board/list.do;jsessionid=Ag7YJuVl0Y0hTP8lgtckEqg3.mehome1?'\n",
    "    params={'boardMasterId':1,\n",
    "            'menuId':286,\n",
    "            'boardCategoryId':39,\n",
    "            'condition.fromDate':'2018-01-01', # 조회 시작일\n",
    "            'condition.toDate':'2020-09-30', # 조회 종료일\n",
    "            'pagerOffset':page_num} # 페이지 넘버\n",
    "    resp=requests.get(url,params=params)\n",
    "    soup=bs(resp.content,'lxml')\n",
    "    # 본문 크롤링을 위한 url 크롤링\n",
    "    url_tagger=soup.find_all('td',class_='al')\n",
    "    for u in url_tagger:\n",
    "        a_tag=u.find('a')\n",
    "        url_list.append(a_tag.attrs['href'])"
   ]
  },
  {
   "cell_type": "code",
   "execution_count": 299,
   "metadata": {},
   "outputs": [
    {
     "data": {
      "text/plain": [
       "1000"
      ]
     },
     "execution_count": 299,
     "metadata": {},
     "output_type": "execute_result"
    }
   ],
   "source": [
    "len(url_list)"
   ]
  },
  {
   "cell_type": "code",
   "execution_count": 300,
   "metadata": {},
   "outputs": [
    {
     "name": "stderr",
     "output_type": "stream",
     "text": [
      "100%|██████████| 1000/1000 [19:40<00:00,  1.18s/it]\n"
     ]
    }
   ],
   "source": [
    "# 본문 내용 크롤링\n",
    "# 비어있는 dataframe 생성\n",
    "# df=pd.DataFrame(columns=['date', 'department','title','text'])\n",
    "\n",
    "soup_list=[]\n",
    "\n",
    "date_list=[]\n",
    "department_list=[]\n",
    "title_list=[]\n",
    "text_list=[]\n",
    "for url in tqdm(url_list):\n",
    "    soup=bs(requests.get(base_url+url).content,'lxml')\n",
    "    #게시일\n",
    "    date=soup.find('div',class_='view_info02').find_all('dd')[-1].text\n",
    "    date_list.append(date)\n",
    "    #부서\n",
    "    department=soup.find('div',class_='view_info01').find_all('dd')[1].text\n",
    "    department_list.append(department)\n",
    "    #제목\n",
    "    title=soup.find('div',id='boardTableWrapper').header.text\n",
    "    title_list.append(title)\n",
    "    #보도내용\n",
    "    t_tag=soup.find('div',class_='view_con')\n",
    "    text=t_tag.text\n",
    "    text_list.append(text)\n",
    "    #df column 추가\n",
    "#     df=df.append({'date':date,'department':department,'title':title,'text':text},ignore_index=True)"
   ]
  },
  {
   "cell_type": "code",
   "execution_count": 301,
   "metadata": {},
   "outputs": [
    {
     "data": {
      "text/plain": [
       "1000"
      ]
     },
     "execution_count": 301,
     "metadata": {},
     "output_type": "execute_result"
    }
   ],
   "source": [
    "len(date_list)"
   ]
  },
  {
   "cell_type": "code",
   "execution_count": 302,
   "metadata": {},
   "outputs": [
    {
     "name": "stderr",
     "output_type": "stream",
     "text": [
      "100%|██████████| 149/149 [02:20<00:00,  1.06it/s]\n"
     ]
    }
   ],
   "source": [
    "url_list=[]\n",
    "for page_num in tqdm(range(1000,2490,10)):\n",
    "    base_url='http://me.go.kr'\n",
    "    url='http://me.go.kr/home/web/board/list.do;jsessionid=Ag7YJuVl0Y0hTP8lgtckEqg3.mehome1?'\n",
    "    params={'boardMasterId':1,\n",
    "            'menuId':286,\n",
    "            'boardCategoryId':39,\n",
    "            'condition.fromDate':'2018-01-01', # 조회 시작일\n",
    "            'condition.toDate':'2020-09-30', # 조회 종료일\n",
    "            'pagerOffset':page_num} # 페이지 넘버\n",
    "    resp=requests.get(url,params=params)\n",
    "    soup=bs(resp.content,'lxml')\n",
    "    # 본문 크롤링을 위한 url 크롤링\n",
    "    url_tagger=soup.find_all('td',class_='al')\n",
    "    for u in url_tagger:\n",
    "        a_tag=u.find('a')\n",
    "        url_list.append(a_tag.attrs['href'])"
   ]
  },
  {
   "cell_type": "code",
   "execution_count": 304,
   "metadata": {},
   "outputs": [
    {
     "name": "stderr",
     "output_type": "stream",
     "text": [
      "100%|██████████| 1481/1481 [28:48<00:00,  1.17s/it] \n"
     ]
    }
   ],
   "source": [
    "\n",
    "# 본문 내용 크롤링\n",
    "# 비어있는 dataframe 생성\n",
    "# df=pd.DataFrame(columns=['date', 'department','title','text'])\n",
    "\n",
    "for url in tqdm(url_list):\n",
    "    soup=(bs(requests.get(base_url+url).content,'lxml'))\n",
    "    \n",
    "    #게시일\n",
    "    date=soup.find('div',class_='view_info02').find_all('dd')[-1].text\n",
    "    date_list.append(date)\n",
    "    #부서\n",
    "    department=soup.find('div',class_='view_info01').find_all('dd')[1].text\n",
    "    department_list.append(department)\n",
    "    #제목\n",
    "    title=soup.find('div',id='boardTableWrapper').header.text\n",
    "    title_list.append(title)\n",
    "    #보도내용\n",
    "    t_tag=soup.find('div',class_='view_con')\n",
    "    text=t_tag.text\n",
    "    text_list.append(text)\n",
    "    #df column 추가\n",
    "#     df=df.append({'date':date,'department':department,'title':title,'text':text},ignore_index=True)"
   ]
  },
  {
   "cell_type": "code",
   "execution_count": 308,
   "metadata": {},
   "outputs": [
    {
     "data": {
      "text/plain": [
       "'\\n\\n▷ 2017년 10월부터 7주간 액체연료 사용 사업장 1,268곳, 날림먼지 발생 사업장 7,168곳, 전국 농어촌 지역 불법소각 등 점검\\n▷ 고황유 불법연료 사용, 날림먼지 발생, 폐기물 불법소각 등 7,720건 적발하고 188건 고발, 과태료 3억 4천만 원 부과\\n\\n환경부(장관 김은경)는 지자체 및 산림청과 2017년 10월 16일부터 11월 30일까지 전국의 \\'미세먼지 다량배출 핵심현장\\'을 특별 점검했다. 점검 결과, 고황유 불법 사용, 날림(비산)먼지 발생, 폐기물 불법소각 등 총 7,720건이 적발됐으며 188건이 고발 조치되었다. 과태료는 약 3억 4천만 원이 부과되었다.\\xa0 이번 특별 점검은 지난해 9월 26일 발표된 정부합동 \\'미세먼지 관리 종합대책\\'의 후속 조치 중 하나로 액체연료(고황유) 사용 사업장 1,268곳, 날림먼지 발생 사업장(건설공사장 등) 7,168곳, 불법소각이 우려되는 전국 17개 시·도 농어촌 지역 전답 및 인근 야산을 대상으로 실시되었다.총 7,720건의 적발 건 중에 대기배출·날림먼지 사업장은 580건, 불법소각 현장에서는 7,140건이 각각 적발되었다. 고발 188건은 공기 희석 등 배출·방지시설 부적정 운영 2건, 대기 배출시설 미신고 10건, 날림먼지 발생 억제조치 미이행 140건 등이다.\\xa0과태료 약 3억 4천만 원은 생활 폐기물의 불법소각 등에 따른 것이며, 불법소각에 대한 주민의 계도도 6,727건이 이루어졌다.이번 특별 점검 결과를 분석해보면, 고황유 불법연료 사용은 2016년 하반기 이후 지속적인 점검으로 감소 추세를 보였다.고황유 불법연료 사용 적발 건수는 2016년 하반기 24건(562곳), 2017년 상반기 16건(891곳), 2017년 하반기 7건(1,268곳)을 기록했다.\\xa0 건설사업장 등 날림먼지 발생 사업장의 적발률도 2017년 상반기 대비 하반기에 감소(8.2%→7.5%)했다. 이는 봄철에 비해 가을철에 건설 공사 건수가 줄어드는 계절적 특성이 반영된 것으로 보인다.특히, 농촌 지역에서 생활폐기물 불법소각에 따른 주민 계도 등의 적발 건수(6,727건)가 급증했다. 겨울철에 들어서면서 비닐 등 농업 잔재물을 태우는 행위가 자주 일어났기 때문으로 풀이된다.이번미세먼지 핵심현장 특별 점검 결과의 구체적인 내용은 다음과 같다.《 고황유 사용 사업장 점검 결과 》고황유 등 액체연료를 사용하는 대기배출사업장 1,268곳을 대상으로 선박용 면세유 등 불법연료 사용여부, 배출허용기준 준수여부, 방지시설 적정운영 여부 등을 점검했다. 점검 결과, 황 함유기준 초과 연료 사용 7건을 비롯하여 배출시설 설치신고 미이행 10건, 자가측정 미이행 4건, 운영일지 미작성 4건 등 총 43건을 적발했다.-위반사업장에 대해서는 황 함유기준 초과 연료 사용금지, 폐쇄명령, 경고 등 42건의 행정처분과 13건의 고발, 6,200만 원의 과태료 부과 등 법적조치가 이뤄졌다.《 날림먼지 발생 사업장 점검 결과 》건설공사장 등 날림먼지 발생 사업장 7,168곳을 대상으로 방진막 설치, 살수·세륜시설 설치·운영, 이송시설 밀폐화 등 날림먼지 억제시설 설치 및 적정 운영 여부를 점검했다.점검 결과, 총 537건이 적발됐다. 이 중 방진벽, 방진망, 살수·세륜시설 등 날림먼지 억제시설·조치 미흡이 221건으로 가장 많았다.날림먼지 억제시설·조치 미이행은 152건으로 뒤를 이었고, 날림먼지 발생 사업장 신고 미이행은 146건을 차지했다.\\xa0\\xa0\\xa0 위반사업장에 대해서는 개선명령 213건, 경고 145건, 조치이행명령 149건 등 529건의 행정처분과 175건의 고발을 비롯해 8,500만 원의 과태료 부과 등의 법적조치가 이뤄졌다.환경부는 위반사업장 중 고발 조치되어 벌금형 이상 선고를 받게 되는 건설업체에 대해서는 관급공사를 발주할 때 입찰참가자격 사전심사* 시 환경 분야 신인도 평가**에서 감점을 받도록 조치할 예정이다.* 입찰참가자격 사전심사(PQ : Pre-Qualification) : 입찰 참가 희망자의 시공경험·기술능력·경영상태 및 신인도 등을 사전심사하여 적격자만 입찰 참가자격을 부여** 신인도 평가 : 최근 1년간 1회 위반 0.5점 감점, 2회 이상 위반 1점 감점《 불법소각 특별단속 결과 》이번미세먼지 핵심현장 특별 점검에서는 처음으로 산림청이 합류하여 농촌지역 등의 불법소각에 대한 광범위한 단속이 이뤄졌다.\\xa0\\xa0\\xa0\\xa0\\xa0 농촌지역 마을 전답 및 인근 야산, 마을 주변 상업·공업 지역 등 불법소각 현장을 점검하여 7,140건을 적발했고 1억 9,300만 원의 과태료 부과 조치가 이뤄졌다.신건일 환경부 대기관리과장은 \"미세먼지 발생을 낮추기 위해서는 액체연료 사용 사업장, 날림먼지 발생 사업장, 불법 소각 행위 등에 대한 국민적 관심과 관계 기관의 지속적인 관리가 필요하다\"라면서, \"올해 2월에도 고농도 미세먼지 발생이 우려되는 봄철에 대비한 집중 점검을 실시할 계획\"이라고 밝혔다.붙임\\xa0 1. 2017년 하반기 미세먼지 다량배출 핵심현장 점검 결과.\\xa0\\xa0\\xa0\\xa0\\xa0\\xa0\\xa0 2. 질의응답.\\xa0 끝.\\xa0\\n'"
      ]
     },
     "execution_count": 308,
     "metadata": {},
     "output_type": "execute_result"
    }
   ],
   "source": [
    "text_list[-10]"
   ]
  },
  {
   "cell_type": "code",
   "execution_count": 310,
   "metadata": {},
   "outputs": [],
   "source": [
    "df=pd.DataFrame({'date':date_list,\n",
    "                'department':department_list,\n",
    "                'title':title_list,\n",
    "                'text':text_list})"
   ]
  },
  {
   "cell_type": "code",
   "execution_count": 311,
   "metadata": {},
   "outputs": [
    {
     "data": {
      "text/html": [
       "<div>\n",
       "<style scoped>\n",
       "    .dataframe tbody tr th:only-of-type {\n",
       "        vertical-align: middle;\n",
       "    }\n",
       "\n",
       "    .dataframe tbody tr th {\n",
       "        vertical-align: top;\n",
       "    }\n",
       "\n",
       "    .dataframe thead th {\n",
       "        text-align: right;\n",
       "    }\n",
       "</style>\n",
       "<table border=\"1\" class=\"dataframe\">\n",
       "  <thead>\n",
       "    <tr style=\"text-align: right;\">\n",
       "      <th></th>\n",
       "      <th>date</th>\n",
       "      <th>department</th>\n",
       "      <th>title</th>\n",
       "      <th>text</th>\n",
       "    </tr>\n",
       "  </thead>\n",
       "  <tbody>\n",
       "    <tr>\n",
       "      <th>0</th>\n",
       "      <td>2020-09-29</td>\n",
       "      <td>\\r\\n\\t\\t\\t\\t\\t\\t\\t\\t\\t\\r\\n\\t\\t\\t\\t\\t\\t\\t\\t\\t\\t...</td>\n",
       "      <td>\\r\\n\\t\\t\\t\\t\\r\\n\\t\\t\\t\\t\\t(공동-참고)철새도래지 10개소, 8...</td>\n",
       "      <td>\\n\\n◇ 농식품부는 최근 겨울철새 도래현황 조사 결과(환경부), 대표적인 겨울철새...</td>\n",
       "    </tr>\n",
       "    <tr>\n",
       "      <th>1</th>\n",
       "      <td>2020-09-29</td>\n",
       "      <td>\\r\\n\\t\\t\\t\\t\\t\\t\\t\\t\\t\\r\\n\\t\\t\\t\\t\\t\\t\\t\\t\\t\\t...</td>\n",
       "      <td>\\r\\n\\t\\t\\t\\t\\r\\n\\t\\t\\t\\t\\t가습기살균제 피해 300명 추가 인정...</td>\n",
       "      <td>\\n\\n▷ 제19차 가습기살균제 피해구제위원회 개최, 특별법 개정 후 첫 회의\\n▷...</td>\n",
       "    </tr>\n",
       "    <tr>\n",
       "      <th>2</th>\n",
       "      <td>2020-09-29</td>\n",
       "      <td>\\r\\n\\t\\t\\t\\t\\t\\t\\t\\t\\t\\r\\n\\t\\t\\t\\t\\t\\t\\t\\t\\t\\t...</td>\n",
       "      <td>\\r\\n\\t\\t\\t\\t\\r\\n\\t\\t\\t\\t\\t제3차 계획기간(2021~2025) ...</td>\n",
       "      <td>\\n\\n▷ 계획기간 배출권거래제 적용 업체들의 배출허용총량을 연평균 6억 970만톤...</td>\n",
       "    </tr>\n",
       "    <tr>\n",
       "      <th>3</th>\n",
       "      <td>2020-09-29</td>\n",
       "      <td>\\r\\n\\t\\t\\t\\t\\t\\t\\t\\t\\t\\r\\n\\t\\t\\t\\t\\t\\t\\t\\t\\t\\t...</td>\n",
       "      <td>\\r\\n\\t\\t\\t\\t\\r\\n\\t\\t\\t\\t\\t환경부, 추석 대비 중소환경기업 지원...</td>\n",
       "      <td>\\n\\n▷ 중소·영세기업 추석 전후 재정지원 박차\\n▷ 융자 신속 집행, 재활용 선...</td>\n",
       "    </tr>\n",
       "    <tr>\n",
       "      <th>4</th>\n",
       "      <td>2020-09-28</td>\n",
       "      <td>\\r\\n\\t\\t\\t\\t\\t\\t\\t\\t\\t\\r\\n\\t\\t\\t\\t\\t\\t\\t\\t\\t\\t...</td>\n",
       "      <td>\\r\\n\\t\\t\\t\\t\\r\\n\\t\\t\\t\\t\\t(참고)유역물관리위원회, 영산강 2개...</td>\n",
       "      <td>\\n\\n▷ 승촌보는 물이용대책을 추진한 후 상시개방으로 결정\\n▷ 죽산보는 해체를 ...</td>\n",
       "    </tr>\n",
       "    <tr>\n",
       "      <th>...</th>\n",
       "      <td>...</td>\n",
       "      <td>...</td>\n",
       "      <td>...</td>\n",
       "      <td>...</td>\n",
       "    </tr>\n",
       "    <tr>\n",
       "      <th>2476</th>\n",
       "      <td>2018-01-05</td>\n",
       "      <td>\\r\\n\\t\\t\\t\\t\\t\\t\\t\\t\\t\\r\\n\\t\\t\\t\\t\\t\\t\\t\\t\\t\\t...</td>\n",
       "      <td>\\r\\n\\t\\t\\t\\t\\r\\n\\t\\t\\t\\t\\t남산에 사는 152종의 나방 정보를 ...</td>\n",
       "      <td>\\n\\n▷ 국립생태원, 서울 남산에 서식하는 나방 분포 정리\\n▷ 가장 많이 사는 ...</td>\n",
       "    </tr>\n",
       "    <tr>\n",
       "      <th>2477</th>\n",
       "      <td>2018-01-04</td>\n",
       "      <td>\\r\\n\\t\\t\\t\\t\\t\\t\\t\\t\\t\\r\\n\\t\\t\\t\\t\\t\\t\\t\\t\\t\\t...</td>\n",
       "      <td>\\r\\n\\t\\t\\t\\t\\r\\n\\t\\t\\t\\t\\t올바른 제품 환경성 표시를 알려드립니...</td>\n",
       "      <td>\\n\\n▷ 환경산업기술원, '제품 환경성 표시·광고 길라잡이' 책자 발간\\n\\n환경...</td>\n",
       "    </tr>\n",
       "    <tr>\n",
       "      <th>2478</th>\n",
       "      <td>2018-01-02</td>\n",
       "      <td>\\r\\n\\t\\t\\t\\t\\t\\t\\t\\t\\t\\r\\n\\t\\t\\t\\t\\t\\t\\t\\t\\t\\t...</td>\n",
       "      <td>\\r\\n\\t\\t\\t\\t\\r\\n\\t\\t\\t\\t\\t기후변화가 사막화에 미치는 영향, 정...</td>\n",
       "      <td>\\n\\n▷ 기후변화로 인한 지표면의 사막화를 정량적으로 분석하는 기술 개발\\n▷ 세...</td>\n",
       "    </tr>\n",
       "    <tr>\n",
       "      <th>2479</th>\n",
       "      <td>2018-01-02</td>\n",
       "      <td>\\r\\n\\t\\t\\t\\t\\t\\t\\t\\t\\t\\r\\n\\t\\t\\t\\t\\t\\t\\t\\t\\t\\t...</td>\n",
       "      <td>\\r\\n\\t\\t\\t\\t\\r\\n\\t\\t\\t\\t\\t온실가스 감축 정책, 국민과 함께 만...</td>\n",
       "      <td>\\n\\n▷ 민·관 상설협의체 운영 등으로 이해관계자 의견 적극 수렴\\n\\n환경부(장...</td>\n",
       "    </tr>\n",
       "    <tr>\n",
       "      <th>2480</th>\n",
       "      <td>2018-01-02</td>\n",
       "      <td>\\r\\n\\t\\t\\t\\t\\t\\t\\t\\t\\t\\r\\n\\t\\t\\t\\t\\t\\t\\t\\t\\t\\t...</td>\n",
       "      <td>\\r\\n\\t\\t\\t\\t\\r\\n\\t\\t\\t\\t\\t현장 여건 반영한 유해화학물질 취급시...</td>\n",
       "      <td>\\n\\n▷ 화학물질안전원, 공간이 부족해 '화관법'을 지키기 어려운 기존 유해화학물...</td>\n",
       "    </tr>\n",
       "  </tbody>\n",
       "</table>\n",
       "<p>2481 rows × 4 columns</p>\n",
       "</div>"
      ],
      "text/plain": [
       "            date                                         department  \\\n",
       "0     2020-09-29  \\r\\n\\t\\t\\t\\t\\t\\t\\t\\t\\t\\r\\n\\t\\t\\t\\t\\t\\t\\t\\t\\t\\t...   \n",
       "1     2020-09-29  \\r\\n\\t\\t\\t\\t\\t\\t\\t\\t\\t\\r\\n\\t\\t\\t\\t\\t\\t\\t\\t\\t\\t...   \n",
       "2     2020-09-29  \\r\\n\\t\\t\\t\\t\\t\\t\\t\\t\\t\\r\\n\\t\\t\\t\\t\\t\\t\\t\\t\\t\\t...   \n",
       "3     2020-09-29  \\r\\n\\t\\t\\t\\t\\t\\t\\t\\t\\t\\r\\n\\t\\t\\t\\t\\t\\t\\t\\t\\t\\t...   \n",
       "4     2020-09-28  \\r\\n\\t\\t\\t\\t\\t\\t\\t\\t\\t\\r\\n\\t\\t\\t\\t\\t\\t\\t\\t\\t\\t...   \n",
       "...          ...                                                ...   \n",
       "2476  2018-01-05  \\r\\n\\t\\t\\t\\t\\t\\t\\t\\t\\t\\r\\n\\t\\t\\t\\t\\t\\t\\t\\t\\t\\t...   \n",
       "2477  2018-01-04  \\r\\n\\t\\t\\t\\t\\t\\t\\t\\t\\t\\r\\n\\t\\t\\t\\t\\t\\t\\t\\t\\t\\t...   \n",
       "2478  2018-01-02  \\r\\n\\t\\t\\t\\t\\t\\t\\t\\t\\t\\r\\n\\t\\t\\t\\t\\t\\t\\t\\t\\t\\t...   \n",
       "2479  2018-01-02  \\r\\n\\t\\t\\t\\t\\t\\t\\t\\t\\t\\r\\n\\t\\t\\t\\t\\t\\t\\t\\t\\t\\t...   \n",
       "2480  2018-01-02  \\r\\n\\t\\t\\t\\t\\t\\t\\t\\t\\t\\r\\n\\t\\t\\t\\t\\t\\t\\t\\t\\t\\t...   \n",
       "\n",
       "                                                  title  \\\n",
       "0     \\r\\n\\t\\t\\t\\t\\r\\n\\t\\t\\t\\t\\t(공동-참고)철새도래지 10개소, 8...   \n",
       "1     \\r\\n\\t\\t\\t\\t\\r\\n\\t\\t\\t\\t\\t가습기살균제 피해 300명 추가 인정...   \n",
       "2     \\r\\n\\t\\t\\t\\t\\r\\n\\t\\t\\t\\t\\t제3차 계획기간(2021~2025) ...   \n",
       "3     \\r\\n\\t\\t\\t\\t\\r\\n\\t\\t\\t\\t\\t환경부, 추석 대비 중소환경기업 지원...   \n",
       "4     \\r\\n\\t\\t\\t\\t\\r\\n\\t\\t\\t\\t\\t(참고)유역물관리위원회, 영산강 2개...   \n",
       "...                                                 ...   \n",
       "2476  \\r\\n\\t\\t\\t\\t\\r\\n\\t\\t\\t\\t\\t남산에 사는 152종의 나방 정보를 ...   \n",
       "2477  \\r\\n\\t\\t\\t\\t\\r\\n\\t\\t\\t\\t\\t올바른 제품 환경성 표시를 알려드립니...   \n",
       "2478  \\r\\n\\t\\t\\t\\t\\r\\n\\t\\t\\t\\t\\t기후변화가 사막화에 미치는 영향, 정...   \n",
       "2479  \\r\\n\\t\\t\\t\\t\\r\\n\\t\\t\\t\\t\\t온실가스 감축 정책, 국민과 함께 만...   \n",
       "2480  \\r\\n\\t\\t\\t\\t\\r\\n\\t\\t\\t\\t\\t현장 여건 반영한 유해화학물질 취급시...   \n",
       "\n",
       "                                                   text  \n",
       "0     \\n\\n◇ 농식품부는 최근 겨울철새 도래현황 조사 결과(환경부), 대표적인 겨울철새...  \n",
       "1     \\n\\n▷ 제19차 가습기살균제 피해구제위원회 개최, 특별법 개정 후 첫 회의\\n▷...  \n",
       "2     \\n\\n▷ 계획기간 배출권거래제 적용 업체들의 배출허용총량을 연평균 6억 970만톤...  \n",
       "3     \\n\\n▷ 중소·영세기업 추석 전후 재정지원 박차\\n▷ 융자 신속 집행, 재활용 선...  \n",
       "4     \\n\\n▷ 승촌보는 물이용대책을 추진한 후 상시개방으로 결정\\n▷ 죽산보는 해체를 ...  \n",
       "...                                                 ...  \n",
       "2476  \\n\\n▷ 국립생태원, 서울 남산에 서식하는 나방 분포 정리\\n▷ 가장 많이 사는 ...  \n",
       "2477  \\n\\n▷ 환경산업기술원, '제품 환경성 표시·광고 길라잡이' 책자 발간\\n\\n환경...  \n",
       "2478  \\n\\n▷ 기후변화로 인한 지표면의 사막화를 정량적으로 분석하는 기술 개발\\n▷ 세...  \n",
       "2479  \\n\\n▷ 민·관 상설협의체 운영 등으로 이해관계자 의견 적극 수렴\\n\\n환경부(장...  \n",
       "2480  \\n\\n▷ 화학물질안전원, 공간이 부족해 '화관법'을 지키기 어려운 기존 유해화학물...  \n",
       "\n",
       "[2481 rows x 4 columns]"
      ]
     },
     "execution_count": 311,
     "metadata": {},
     "output_type": "execute_result"
    }
   ],
   "source": [
    "df"
   ]
  },
  {
   "cell_type": "code",
   "execution_count": 312,
   "metadata": {},
   "outputs": [],
   "source": [
    "df.to_csv('env_new_df.csv')"
   ]
  },
  {
   "cell_type": "markdown",
   "metadata": {},
   "source": [
    "## 전처리"
   ]
  },
  {
   "cell_type": "code",
   "execution_count": 313,
   "metadata": {},
   "outputs": [
    {
     "data": {
      "text/html": [
       "<div>\n",
       "<style scoped>\n",
       "    .dataframe tbody tr th:only-of-type {\n",
       "        vertical-align: middle;\n",
       "    }\n",
       "\n",
       "    .dataframe tbody tr th {\n",
       "        vertical-align: top;\n",
       "    }\n",
       "\n",
       "    .dataframe thead th {\n",
       "        text-align: right;\n",
       "    }\n",
       "</style>\n",
       "<table border=\"1\" class=\"dataframe\">\n",
       "  <thead>\n",
       "    <tr style=\"text-align: right;\">\n",
       "      <th></th>\n",
       "      <th>date</th>\n",
       "      <th>department</th>\n",
       "      <th>title</th>\n",
       "      <th>text</th>\n",
       "    </tr>\n",
       "  </thead>\n",
       "  <tbody>\n",
       "    <tr>\n",
       "      <th>0</th>\n",
       "      <td>2020-09-29</td>\n",
       "      <td>\\r\\n\\t\\t\\t\\t\\t\\t\\t\\t\\t\\r\\n\\t\\t\\t\\t\\t\\t\\t\\t\\t\\t...</td>\n",
       "      <td>\\r\\n\\t\\t\\t\\t\\r\\n\\t\\t\\t\\t\\t(공동-참고)철새도래지 10개소, 8...</td>\n",
       "      <td>\\n\\n◇ 농식품부는 최근 겨울철새 도래현황 조사 결과(환경부), 대표적인 겨울철새...</td>\n",
       "    </tr>\n",
       "    <tr>\n",
       "      <th>1</th>\n",
       "      <td>2020-09-29</td>\n",
       "      <td>\\r\\n\\t\\t\\t\\t\\t\\t\\t\\t\\t\\r\\n\\t\\t\\t\\t\\t\\t\\t\\t\\t\\t...</td>\n",
       "      <td>\\r\\n\\t\\t\\t\\t\\r\\n\\t\\t\\t\\t\\t가습기살균제 피해 300명 추가 인정...</td>\n",
       "      <td>\\n\\n▷ 제19차 가습기살균제 피해구제위원회 개최, 특별법 개정 후 첫 회의\\n▷...</td>\n",
       "    </tr>\n",
       "    <tr>\n",
       "      <th>2</th>\n",
       "      <td>2020-09-29</td>\n",
       "      <td>\\r\\n\\t\\t\\t\\t\\t\\t\\t\\t\\t\\r\\n\\t\\t\\t\\t\\t\\t\\t\\t\\t\\t...</td>\n",
       "      <td>\\r\\n\\t\\t\\t\\t\\r\\n\\t\\t\\t\\t\\t제3차 계획기간(2021~2025) ...</td>\n",
       "      <td>\\n\\n▷ 계획기간 배출권거래제 적용 업체들의 배출허용총량을 연평균 6억 970만톤...</td>\n",
       "    </tr>\n",
       "    <tr>\n",
       "      <th>3</th>\n",
       "      <td>2020-09-29</td>\n",
       "      <td>\\r\\n\\t\\t\\t\\t\\t\\t\\t\\t\\t\\r\\n\\t\\t\\t\\t\\t\\t\\t\\t\\t\\t...</td>\n",
       "      <td>\\r\\n\\t\\t\\t\\t\\r\\n\\t\\t\\t\\t\\t환경부, 추석 대비 중소환경기업 지원...</td>\n",
       "      <td>\\n\\n▷ 중소·영세기업 추석 전후 재정지원 박차\\n▷ 융자 신속 집행, 재활용 선...</td>\n",
       "    </tr>\n",
       "    <tr>\n",
       "      <th>4</th>\n",
       "      <td>2020-09-28</td>\n",
       "      <td>\\r\\n\\t\\t\\t\\t\\t\\t\\t\\t\\t\\r\\n\\t\\t\\t\\t\\t\\t\\t\\t\\t\\t...</td>\n",
       "      <td>\\r\\n\\t\\t\\t\\t\\r\\n\\t\\t\\t\\t\\t(참고)유역물관리위원회, 영산강 2개...</td>\n",
       "      <td>\\n\\n▷ 승촌보는 물이용대책을 추진한 후 상시개방으로 결정\\n▷ 죽산보는 해체를 ...</td>\n",
       "    </tr>\n",
       "    <tr>\n",
       "      <th>...</th>\n",
       "      <td>...</td>\n",
       "      <td>...</td>\n",
       "      <td>...</td>\n",
       "      <td>...</td>\n",
       "    </tr>\n",
       "    <tr>\n",
       "      <th>2476</th>\n",
       "      <td>2018-01-05</td>\n",
       "      <td>\\r\\n\\t\\t\\t\\t\\t\\t\\t\\t\\t\\r\\n\\t\\t\\t\\t\\t\\t\\t\\t\\t\\t...</td>\n",
       "      <td>\\r\\n\\t\\t\\t\\t\\r\\n\\t\\t\\t\\t\\t남산에 사는 152종의 나방 정보를 ...</td>\n",
       "      <td>\\n\\n▷ 국립생태원, 서울 남산에 서식하는 나방 분포 정리\\n▷ 가장 많이 사는 ...</td>\n",
       "    </tr>\n",
       "    <tr>\n",
       "      <th>2477</th>\n",
       "      <td>2018-01-04</td>\n",
       "      <td>\\r\\n\\t\\t\\t\\t\\t\\t\\t\\t\\t\\r\\n\\t\\t\\t\\t\\t\\t\\t\\t\\t\\t...</td>\n",
       "      <td>\\r\\n\\t\\t\\t\\t\\r\\n\\t\\t\\t\\t\\t올바른 제품 환경성 표시를 알려드립니...</td>\n",
       "      <td>\\n\\n▷ 환경산업기술원, '제품 환경성 표시·광고 길라잡이' 책자 발간\\n\\n환경...</td>\n",
       "    </tr>\n",
       "    <tr>\n",
       "      <th>2478</th>\n",
       "      <td>2018-01-02</td>\n",
       "      <td>\\r\\n\\t\\t\\t\\t\\t\\t\\t\\t\\t\\r\\n\\t\\t\\t\\t\\t\\t\\t\\t\\t\\t...</td>\n",
       "      <td>\\r\\n\\t\\t\\t\\t\\r\\n\\t\\t\\t\\t\\t기후변화가 사막화에 미치는 영향, 정...</td>\n",
       "      <td>\\n\\n▷ 기후변화로 인한 지표면의 사막화를 정량적으로 분석하는 기술 개발\\n▷ 세...</td>\n",
       "    </tr>\n",
       "    <tr>\n",
       "      <th>2479</th>\n",
       "      <td>2018-01-02</td>\n",
       "      <td>\\r\\n\\t\\t\\t\\t\\t\\t\\t\\t\\t\\r\\n\\t\\t\\t\\t\\t\\t\\t\\t\\t\\t...</td>\n",
       "      <td>\\r\\n\\t\\t\\t\\t\\r\\n\\t\\t\\t\\t\\t온실가스 감축 정책, 국민과 함께 만...</td>\n",
       "      <td>\\n\\n▷ 민·관 상설협의체 운영 등으로 이해관계자 의견 적극 수렴\\n\\n환경부(장...</td>\n",
       "    </tr>\n",
       "    <tr>\n",
       "      <th>2480</th>\n",
       "      <td>2018-01-02</td>\n",
       "      <td>\\r\\n\\t\\t\\t\\t\\t\\t\\t\\t\\t\\r\\n\\t\\t\\t\\t\\t\\t\\t\\t\\t\\t...</td>\n",
       "      <td>\\r\\n\\t\\t\\t\\t\\r\\n\\t\\t\\t\\t\\t현장 여건 반영한 유해화학물질 취급시...</td>\n",
       "      <td>\\n\\n▷ 화학물질안전원, 공간이 부족해 '화관법'을 지키기 어려운 기존 유해화학물...</td>\n",
       "    </tr>\n",
       "  </tbody>\n",
       "</table>\n",
       "<p>2481 rows × 4 columns</p>\n",
       "</div>"
      ],
      "text/plain": [
       "            date                                         department  \\\n",
       "0     2020-09-29  \\r\\n\\t\\t\\t\\t\\t\\t\\t\\t\\t\\r\\n\\t\\t\\t\\t\\t\\t\\t\\t\\t\\t...   \n",
       "1     2020-09-29  \\r\\n\\t\\t\\t\\t\\t\\t\\t\\t\\t\\r\\n\\t\\t\\t\\t\\t\\t\\t\\t\\t\\t...   \n",
       "2     2020-09-29  \\r\\n\\t\\t\\t\\t\\t\\t\\t\\t\\t\\r\\n\\t\\t\\t\\t\\t\\t\\t\\t\\t\\t...   \n",
       "3     2020-09-29  \\r\\n\\t\\t\\t\\t\\t\\t\\t\\t\\t\\r\\n\\t\\t\\t\\t\\t\\t\\t\\t\\t\\t...   \n",
       "4     2020-09-28  \\r\\n\\t\\t\\t\\t\\t\\t\\t\\t\\t\\r\\n\\t\\t\\t\\t\\t\\t\\t\\t\\t\\t...   \n",
       "...          ...                                                ...   \n",
       "2476  2018-01-05  \\r\\n\\t\\t\\t\\t\\t\\t\\t\\t\\t\\r\\n\\t\\t\\t\\t\\t\\t\\t\\t\\t\\t...   \n",
       "2477  2018-01-04  \\r\\n\\t\\t\\t\\t\\t\\t\\t\\t\\t\\r\\n\\t\\t\\t\\t\\t\\t\\t\\t\\t\\t...   \n",
       "2478  2018-01-02  \\r\\n\\t\\t\\t\\t\\t\\t\\t\\t\\t\\r\\n\\t\\t\\t\\t\\t\\t\\t\\t\\t\\t...   \n",
       "2479  2018-01-02  \\r\\n\\t\\t\\t\\t\\t\\t\\t\\t\\t\\r\\n\\t\\t\\t\\t\\t\\t\\t\\t\\t\\t...   \n",
       "2480  2018-01-02  \\r\\n\\t\\t\\t\\t\\t\\t\\t\\t\\t\\r\\n\\t\\t\\t\\t\\t\\t\\t\\t\\t\\t...   \n",
       "\n",
       "                                                  title  \\\n",
       "0     \\r\\n\\t\\t\\t\\t\\r\\n\\t\\t\\t\\t\\t(공동-참고)철새도래지 10개소, 8...   \n",
       "1     \\r\\n\\t\\t\\t\\t\\r\\n\\t\\t\\t\\t\\t가습기살균제 피해 300명 추가 인정...   \n",
       "2     \\r\\n\\t\\t\\t\\t\\r\\n\\t\\t\\t\\t\\t제3차 계획기간(2021~2025) ...   \n",
       "3     \\r\\n\\t\\t\\t\\t\\r\\n\\t\\t\\t\\t\\t환경부, 추석 대비 중소환경기업 지원...   \n",
       "4     \\r\\n\\t\\t\\t\\t\\r\\n\\t\\t\\t\\t\\t(참고)유역물관리위원회, 영산강 2개...   \n",
       "...                                                 ...   \n",
       "2476  \\r\\n\\t\\t\\t\\t\\r\\n\\t\\t\\t\\t\\t남산에 사는 152종의 나방 정보를 ...   \n",
       "2477  \\r\\n\\t\\t\\t\\t\\r\\n\\t\\t\\t\\t\\t올바른 제품 환경성 표시를 알려드립니...   \n",
       "2478  \\r\\n\\t\\t\\t\\t\\r\\n\\t\\t\\t\\t\\t기후변화가 사막화에 미치는 영향, 정...   \n",
       "2479  \\r\\n\\t\\t\\t\\t\\r\\n\\t\\t\\t\\t\\t온실가스 감축 정책, 국민과 함께 만...   \n",
       "2480  \\r\\n\\t\\t\\t\\t\\r\\n\\t\\t\\t\\t\\t현장 여건 반영한 유해화학물질 취급시...   \n",
       "\n",
       "                                                   text  \n",
       "0     \\n\\n◇ 농식품부는 최근 겨울철새 도래현황 조사 결과(환경부), 대표적인 겨울철새...  \n",
       "1     \\n\\n▷ 제19차 가습기살균제 피해구제위원회 개최, 특별법 개정 후 첫 회의\\n▷...  \n",
       "2     \\n\\n▷ 계획기간 배출권거래제 적용 업체들의 배출허용총량을 연평균 6억 970만톤...  \n",
       "3     \\n\\n▷ 중소·영세기업 추석 전후 재정지원 박차\\n▷ 융자 신속 집행, 재활용 선...  \n",
       "4     \\n\\n▷ 승촌보는 물이용대책을 추진한 후 상시개방으로 결정\\n▷ 죽산보는 해체를 ...  \n",
       "...                                                 ...  \n",
       "2476  \\n\\n▷ 국립생태원, 서울 남산에 서식하는 나방 분포 정리\\n▷ 가장 많이 사는 ...  \n",
       "2477  \\n\\n▷ 환경산업기술원, '제품 환경성 표시·광고 길라잡이' 책자 발간\\n\\n환경...  \n",
       "2478  \\n\\n▷ 기후변화로 인한 지표면의 사막화를 정량적으로 분석하는 기술 개발\\n▷ 세...  \n",
       "2479  \\n\\n▷ 민·관 상설협의체 운영 등으로 이해관계자 의견 적극 수렴\\n\\n환경부(장...  \n",
       "2480  \\n\\n▷ 화학물질안전원, 공간이 부족해 '화관법'을 지키기 어려운 기존 유해화학물...  \n",
       "\n",
       "[2481 rows x 4 columns]"
      ]
     },
     "execution_count": 313,
     "metadata": {},
     "output_type": "execute_result"
    }
   ],
   "source": [
    "df"
   ]
  },
  {
   "cell_type": "code",
   "execution_count": 321,
   "metadata": {},
   "outputs": [
    {
     "name": "stdout",
     "output_type": "stream",
     "text": [
      "<class 'pandas.core.frame.DataFrame'>\n",
      "RangeIndex: 2481 entries, 0 to 2480\n",
      "Data columns (total 4 columns):\n",
      " #   Column      Non-Null Count  Dtype \n",
      "---  ------      --------------  ----- \n",
      " 0   date        2481 non-null   object\n",
      " 1   department  2481 non-null   object\n",
      " 2   title       2481 non-null   object\n",
      " 3   text        2481 non-null   object\n",
      "dtypes: object(4)\n",
      "memory usage: 77.7+ KB\n"
     ]
    }
   ],
   "source": [
    "df.info()"
   ]
  },
  {
   "cell_type": "code",
   "execution_count": 322,
   "metadata": {},
   "outputs": [],
   "source": [
    "def clean_str(text):\n",
    "    text=re.sub('[\\n]', '', text)\n",
    "    text=re.sub('<[^>]*>','',text)\n",
    "    text=re.sub('[[a-z]* [가-힣]*]','',text)\n",
    "    pattern = '[^\\w\\s\\.]'         # 특수기호제거\n",
    "    text = re.sub(pattern=pattern, repl='', string=text)\n",
    "    pattern = '([ㄱ-ㅎㅏ-ㅣ]+)'  # 한글 자음, 모음 제거\n",
    "    text = re.sub(pattern=pattern, repl='', string=text)\n",
    "    text = re.sub('rn','',text)\n",
    "    text = re.sub('xa0','',text)\n",
    "    text = text.strip()\n",
    "    return text"
   ]
  },
  {
   "cell_type": "code",
   "execution_count": 323,
   "metadata": {},
   "outputs": [],
   "source": [
    "df['department']=df['department'].apply(lambda x: clean_str(x))"
   ]
  },
  {
   "cell_type": "code",
   "execution_count": 324,
   "metadata": {},
   "outputs": [],
   "source": [
    "df['title']=df['title'].apply(lambda x: clean_str(x))"
   ]
  },
  {
   "cell_type": "code",
   "execution_count": 325,
   "metadata": {},
   "outputs": [],
   "source": [
    "df['text']=df['text'].apply(lambda x:[clean_str(x)])"
   ]
  },
  {
   "cell_type": "code",
   "execution_count": 326,
   "metadata": {},
   "outputs": [],
   "source": [
    "df['date']=df['date'].apply(lambda x: pd.to_datetime(x))"
   ]
  },
  {
   "cell_type": "code",
   "execution_count": 327,
   "metadata": {},
   "outputs": [
    {
     "data": {
      "text/html": [
       "<div>\n",
       "<style scoped>\n",
       "    .dataframe tbody tr th:only-of-type {\n",
       "        vertical-align: middle;\n",
       "    }\n",
       "\n",
       "    .dataframe tbody tr th {\n",
       "        vertical-align: top;\n",
       "    }\n",
       "\n",
       "    .dataframe thead th {\n",
       "        text-align: right;\n",
       "    }\n",
       "</style>\n",
       "<table border=\"1\" class=\"dataframe\">\n",
       "  <thead>\n",
       "    <tr style=\"text-align: right;\">\n",
       "      <th></th>\n",
       "      <th>date</th>\n",
       "      <th>department</th>\n",
       "      <th>title</th>\n",
       "      <th>text</th>\n",
       "    </tr>\n",
       "  </thead>\n",
       "  <tbody>\n",
       "    <tr>\n",
       "      <th>0</th>\n",
       "      <td>2020-09-29</td>\n",
       "      <td>생물다양성과</td>\n",
       "      <td>공동참고철새도래지 10개소 89종 28277개체 확인</td>\n",
       "      <td>[농식품부는 최근 겨울철새 도래현황 조사 결과환경부 대표적인 겨울철새인 오리기러기 ...</td>\n",
       "    </tr>\n",
       "    <tr>\n",
       "      <th>1</th>\n",
       "      <td>2020-09-29</td>\n",
       "      <td>환경보건정책과</td>\n",
       "      <td>가습기살균제 피해 300명 추가 인정총 3284명 지원</td>\n",
       "      <td>[제19차 가습기살균제 피해구제위원회 개최 특별법 개정 후 첫 회의 개정법에 따른 ...</td>\n",
       "    </tr>\n",
       "    <tr>\n",
       "      <th>2</th>\n",
       "      <td>2020-09-29</td>\n",
       "      <td>기후경제과</td>\n",
       "      <td>제3차 계획기간20212025 국가 배출권 할당계획 마련</td>\n",
       "      <td>[계획기간 배출권거래제 적용 업체들의 배출허용총량을 연평균 6억 970만톤으로 설정...</td>\n",
       "    </tr>\n",
       "    <tr>\n",
       "      <th>3</th>\n",
       "      <td>2020-09-29</td>\n",
       "      <td>녹색전환정책과</td>\n",
       "      <td>환경부 추석 대비 중소환경기업 지원에 힘쓴다</td>\n",
       "      <td>[중소영세기업 추석 전후 재정지원 박차 융자 신속 집행 재활용 선별업체 추가 지원금...</td>\n",
       "    </tr>\n",
       "    <tr>\n",
       "      <th>4</th>\n",
       "      <td>2020-09-28</td>\n",
       "      <td>심의지원소통팀</td>\n",
       "      <td>참고유역물관리위원회 영산강 2개보 처리방안 의견 제시</td>\n",
       "      <td>[승촌보는 물이용대책을 추진한 후 상시개방으로 결정 죽산보는 해체를 제안하나 개방 ...</td>\n",
       "    </tr>\n",
       "    <tr>\n",
       "      <th>...</th>\n",
       "      <td>...</td>\n",
       "      <td>...</td>\n",
       "      <td>...</td>\n",
       "      <td>...</td>\n",
       "    </tr>\n",
       "    <tr>\n",
       "      <th>2476</th>\n",
       "      <td>2018-01-05</td>\n",
       "      <td>국립생태원</td>\n",
       "      <td>남산에 사는 152종의 나방 정보를 한눈에</td>\n",
       "      <td>[국립생태원 서울 남산에 서식하는 나방 분포 정리 가장 많이 사는 종은 무늬짤름나방...</td>\n",
       "    </tr>\n",
       "    <tr>\n",
       "      <th>2477</th>\n",
       "      <td>2018-01-04</td>\n",
       "      <td>한국환경산업기술원</td>\n",
       "      <td>올바른 제품 환경성 표시를 알려드립니다</td>\n",
       "      <td>[환경산업기술원 제품 환경성 표시광고 길라잡이 책자 발간환경부 산하 한국환경산업기술...</td>\n",
       "    </tr>\n",
       "    <tr>\n",
       "      <th>2478</th>\n",
       "      <td>2018-01-02</td>\n",
       "      <td>한국환경산업기술원</td>\n",
       "      <td>기후변화가 사막화에 미치는 영향 정량적으로 예측한다</td>\n",
       "      <td>[기후변화로 인한 지표면의 사막화를 정량적으로 분석하는 기술 개발 세계적 학술지 네...</td>\n",
       "    </tr>\n",
       "    <tr>\n",
       "      <th>2479</th>\n",
       "      <td>2018-01-02</td>\n",
       "      <td>신기후체제대응팀</td>\n",
       "      <td>온실가스 감축 정책 국민과 함께 만든다</td>\n",
       "      <td>[민관 상설협의체 운영 등으로 이해관계자 의견 적극 수렴환경부장관 김은경는 2018...</td>\n",
       "    </tr>\n",
       "    <tr>\n",
       "      <th>2480</th>\n",
       "      <td>2018-01-02</td>\n",
       "      <td>화학물질안전원</td>\n",
       "      <td>현장 여건 반영한 유해화학물질 취급시설 안전성 평가 시행</td>\n",
       "      <td>[화학물질안전원 공간이 부족해 화관법을 지키기 어려운 기존 유해화학물질 취급시설에 ...</td>\n",
       "    </tr>\n",
       "  </tbody>\n",
       "</table>\n",
       "<p>2481 rows × 4 columns</p>\n",
       "</div>"
      ],
      "text/plain": [
       "           date department                            title  \\\n",
       "0    2020-09-29     생물다양성과    공동참고철새도래지 10개소 89종 28277개체 확인   \n",
       "1    2020-09-29    환경보건정책과   가습기살균제 피해 300명 추가 인정총 3284명 지원   \n",
       "2    2020-09-29      기후경제과  제3차 계획기간20212025 국가 배출권 할당계획 마련   \n",
       "3    2020-09-29    녹색전환정책과         환경부 추석 대비 중소환경기업 지원에 힘쓴다   \n",
       "4    2020-09-28    심의지원소통팀    참고유역물관리위원회 영산강 2개보 처리방안 의견 제시   \n",
       "...         ...        ...                              ...   \n",
       "2476 2018-01-05      국립생태원          남산에 사는 152종의 나방 정보를 한눈에   \n",
       "2477 2018-01-04  한국환경산업기술원            올바른 제품 환경성 표시를 알려드립니다   \n",
       "2478 2018-01-02  한국환경산업기술원     기후변화가 사막화에 미치는 영향 정량적으로 예측한다   \n",
       "2479 2018-01-02   신기후체제대응팀            온실가스 감축 정책 국민과 함께 만든다   \n",
       "2480 2018-01-02    화학물질안전원  현장 여건 반영한 유해화학물질 취급시설 안전성 평가 시행   \n",
       "\n",
       "                                                   text  \n",
       "0     [농식품부는 최근 겨울철새 도래현황 조사 결과환경부 대표적인 겨울철새인 오리기러기 ...  \n",
       "1     [제19차 가습기살균제 피해구제위원회 개최 특별법 개정 후 첫 회의 개정법에 따른 ...  \n",
       "2     [계획기간 배출권거래제 적용 업체들의 배출허용총량을 연평균 6억 970만톤으로 설정...  \n",
       "3     [중소영세기업 추석 전후 재정지원 박차 융자 신속 집행 재활용 선별업체 추가 지원금...  \n",
       "4     [승촌보는 물이용대책을 추진한 후 상시개방으로 결정 죽산보는 해체를 제안하나 개방 ...  \n",
       "...                                                 ...  \n",
       "2476  [국립생태원 서울 남산에 서식하는 나방 분포 정리 가장 많이 사는 종은 무늬짤름나방...  \n",
       "2477  [환경산업기술원 제품 환경성 표시광고 길라잡이 책자 발간환경부 산하 한국환경산업기술...  \n",
       "2478  [기후변화로 인한 지표면의 사막화를 정량적으로 분석하는 기술 개발 세계적 학술지 네...  \n",
       "2479  [민관 상설협의체 운영 등으로 이해관계자 의견 적극 수렴환경부장관 김은경는 2018...  \n",
       "2480  [화학물질안전원 공간이 부족해 화관법을 지키기 어려운 기존 유해화학물질 취급시설에 ...  \n",
       "\n",
       "[2481 rows x 4 columns]"
      ]
     },
     "execution_count": 327,
     "metadata": {},
     "output_type": "execute_result"
    }
   ],
   "source": [
    "df"
   ]
  },
  {
   "cell_type": "code",
   "execution_count": 330,
   "metadata": {},
   "outputs": [],
   "source": [
    "df.to_csv('env_news_df_clean.csv')"
   ]
  },
  {
   "cell_type": "code",
   "execution_count": null,
   "metadata": {},
   "outputs": [],
   "source": []
  }
 ],
 "metadata": {
  "kernelspec": {
   "display_name": "Python 3",
   "language": "python",
   "name": "python3"
  },
  "language_info": {
   "codemirror_mode": {
    "name": "ipython",
    "version": 3
   },
   "file_extension": ".py",
   "mimetype": "text/x-python",
   "name": "python",
   "nbconvert_exporter": "python",
   "pygments_lexer": "ipython3",
   "version": "3.7.6"
  }
 },
 "nbformat": 4,
 "nbformat_minor": 4
}
